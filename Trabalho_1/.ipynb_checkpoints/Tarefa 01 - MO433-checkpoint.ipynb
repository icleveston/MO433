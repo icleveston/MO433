{
 "cells": [
  {
   "cell_type": "markdown",
   "metadata": {
    "id": "zmyv1DI4-uXj"
   },
   "source": [
    "## **Tarefa 1: MO433 - Aprendizado não supervisionado**"
   ]
  },
  {
   "cell_type": "markdown",
   "metadata": {
    "id": "rlDIDbj3JKGa"
   },
   "source": [
    "## **Equipe:**\n",
    "\n",
    "* Elian Laura  | 265685\n",
    "* Iury Cleveston  | 230216"
   ]
  },
  {
   "cell_type": "code",
   "execution_count": 6,
   "metadata": {
    "colab": {
     "base_uri": "https://localhost:8080/"
    },
    "id": "QDlXWKWGGWW-",
    "outputId": "e98f4b67-85b4-4a89-cfc1-2370614490b4"
   },
   "outputs": [
    {
     "name": "stdout",
     "output_type": "stream",
     "text": [
      "--2021-10-19 09:36:22--  http://fimi.ua.ac.be/data/retail.dat\n",
      "Resolvendo fimi.ua.ac.be (fimi.ua.ac.be)... 143.129.69.1\n",
      "Conectando-se a fimi.ua.ac.be (fimi.ua.ac.be)|143.129.69.1|:80... conectado.\n",
      "A requisição HTTP foi enviada, aguardando resposta... 301 Moved Permanently\n",
      "Localização: http://fimi.uantwerpen.be/data/retail.dat [redirecionando]\n",
      "--2021-10-19 09:36:29--  http://fimi.uantwerpen.be/data/retail.dat\n",
      "Resolvendo fimi.uantwerpen.be (fimi.uantwerpen.be)... 143.129.69.1\n",
      "Reaproveitando a conexão existente para fimi.ua.ac.be:80.\n",
      "A requisição HTTP foi enviada, aguardando resposta... 200 OK\n",
      "Tamanho: 4167490 (4,0M)\n",
      "Salvando em: “retail.dat.1”\n",
      "\n",
      "retail.dat.1          0%[                    ]  14,78K  --.-KB/s    TED 52m 12s^C\n"
     ]
    }
   ],
   "source": [
    "!wget http://fimi.ua.ac.be/data/retail.dat "
   ]
  },
  {
   "cell_type": "code",
   "execution_count": 90,
   "metadata": {},
   "outputs": [],
   "source": [
    "# Load the data\n",
    "transactions = []\n",
    "\n",
    "for line in open('retail.dat', 'r'):\n",
    "    \n",
    "    # Remove spaces\n",
    "    items = line.strip()\n",
    "    \n",
    "    # Split and add the items to the transaction\n",
    "    transactions.append(items.split(' '))"
   ]
  },
  {
   "cell_type": "markdown",
   "metadata": {
    "id": "sOHcHpkljr9e"
   },
   "source": [
    "### 1) Algoritmo Apriori from apyori"
   ]
  },
  {
   "cell_type": "code",
   "execution_count": 91,
   "metadata": {
    "colab": {
     "base_uri": "https://localhost:8080/"
    },
    "id": "9MYba7SlFU6Z",
    "outputId": "b24a9e3f-a781-4e10-e0b0-1016a9162c56"
   },
   "outputs": [
    {
     "name": "stdout",
     "output_type": "stream",
     "text": [
      "Defaulting to user installation because normal site-packages is not writeable\n",
      "Requirement already satisfied: apyori in /home/iury/.local/lib/python3.8/site-packages (1.1.2)\n"
     ]
    }
   ],
   "source": [
    "!pip install apyori"
   ]
  },
  {
   "cell_type": "code",
   "execution_count": 92,
   "metadata": {
    "id": "9p_xnlrtwzpy"
   },
   "outputs": [],
   "source": [
    "from apyori import apriori\n",
    "import matplotlib.pyplot as plt\n",
    "import pandas as pd"
   ]
  },
  {
   "cell_type": "code",
   "execution_count": 94,
   "metadata": {
    "colab": {
     "base_uri": "https://localhost:8080/"
    },
    "id": "t_CLDSzpxhZ6",
    "outputId": "425509bd-b4e5-4c74-ec7d-e988a126f7ca"
   },
   "outputs": [
    {
     "name": "stdout",
     "output_type": "stream",
     "text": [
      "              rule  support  confidence    lift\n",
      "    16011 => 16010    0.007       0.973  65.190\n",
      " 39, 48, 110 => 38    0.012       0.994   5.620\n",
      " 39, 41, 110 => 38    0.006       0.992   5.609\n",
      "     39, 110 => 38    0.020       0.989   5.592\n",
      " 48, 170, 39 => 38    0.014       0.989   5.592\n",
      "     371, 39 => 38    0.006       0.989   5.589\n",
      "     48, 170 => 38    0.017       0.988   5.584\n",
      " 39, 48, 286 => 38    0.005       0.987   5.580\n",
      "     105, 39 => 38    0.005       0.987   5.578\n",
      "     32, 110 => 38    0.005       0.987   5.577\n",
      "     170, 41 => 38    0.009       0.986   5.576\n",
      "     48, 110 => 38    0.015       0.986   5.575\n",
      "      48, 37 => 38    0.006       0.986   5.573\n",
      " 41, 170, 39 => 38    0.007       0.986   5.571\n",
      "     32, 170 => 38    0.006       0.985   5.569\n",
      " 48, 170, 41 => 38    0.005       0.984   5.561\n",
      "     41, 110 => 38    0.008       0.984   5.561\n",
      "     48, 286 => 38    0.007       0.983   5.557\n",
      "         371 => 38    0.009       0.981   5.544\n",
      "     170, 39 => 38    0.023       0.981   5.543\n",
      "         105 => 38    0.007       0.979   5.532\n",
      "         170 => 38    0.034       0.978   5.529\n",
      "         110 => 38    0.031       0.975   5.513\n",
      "          37 => 38    0.012       0.974   5.505\n",
      "         790 => 38    0.006       0.971   5.491\n",
      "     39, 286 => 38    0.008       0.971   5.487\n",
      "  36, 48, 39 => 38    0.012       0.968   5.471\n",
      "      37, 39 => 38    0.008       0.967   5.469\n",
      "  36, 41, 39 => 38    0.006       0.967   5.465\n",
      "          56 => 38    0.006       0.961   5.431\n",
      "      36, 48 => 38    0.015       0.960   5.429\n",
      "      36, 41 => 38    0.008       0.959   5.419\n",
      "      36, 32 => 38    0.005       0.955   5.401\n",
      "      36, 39 => 38    0.022       0.955   5.398\n",
      "          36 => 38    0.032       0.950   5.372\n",
      "         286 => 38    0.013       0.943   5.333\n",
      "          55 => 38    0.007       0.933   5.275\n"
     ]
    }
   ],
   "source": [
    "# Create the apyory generator\n",
    "results_generator = apriori(transactions, min_support=0.005, min_confidence=0.9)\n",
    "\n",
    "# Show the rules with support, confidence and lift\n",
    "rules_df = pd.DataFrame(columns=['rule', 'support', 'confidence', 'lift'])\n",
    "\n",
    "supports = []\n",
    "confidences = []\n",
    "lifts = []\n",
    "\n",
    "for i in results_generator: \n",
    "    \n",
    "    items_base = list(i.ordered_statistics[0].items_base)\n",
    "    items_add = list(i.ordered_statistics[0].items_add)\n",
    "    \n",
    "    # Collect metrics\n",
    "    supports.append(i.support)\n",
    "    confidences.append(i.ordered_statistics[0].confidence)\n",
    "    lifts.append(i.ordered_statistics[0].lift)\n",
    "    \n",
    "    new_row = {'rule': ', '.join(items_base) + ' => ' + ','.join(items_add), \n",
    "               'support': round(i.support, 3),\n",
    "               'confidence': round(i.ordered_statistics[0].confidence, 3),\n",
    "               'lift': round(i.ordered_statistics[0].lift, 3)}\n",
    "    \n",
    "    rules_df = rules_df.append(new_row, ignore_index=True)\n",
    "\n",
    "# Sort by lift\n",
    "rules_df = rules_df.sort_values('lift', ascending=False)\n",
    "    \n",
    "print(rules_df.to_string(index=False))\n",
    "    "
   ]
  },
  {
   "cell_type": "code",
   "execution_count": 95,
   "metadata": {
    "colab": {
     "base_uri": "https://localhost:8080/",
     "height": 294
    },
    "id": "SFhK5fgTmahR",
    "outputId": "3ca1ad59-d3c3-47d9-9c01-fb8b84ee4cac"
   },
   "outputs": [
    {
     "data": {
      "image/png": "[encoded data removed]",
      "text/plain": [
       "<Figure size 432x288 with 1 Axes>"
      ]
     },
     "metadata": {
      "needs_background": "light"
     },
     "output_type": "display_data"
    }
   ],
   "source": [
    "# Plots\n",
    "plt.title(\"Confidence vs Support\")\n",
    "plt.scatter(supports, confidences, alpha=0.5, marker=\"*\")\n",
    "plt.xlabel('support')\n",
    "plt.ylabel('confidence') \n",
    "plt.show()"
   ]
  },
  {
   "cell_type": "code",
   "execution_count": 96,
   "metadata": {
    "colab": {
     "base_uri": "https://localhost:8080/",
     "height": 294
    },
    "id": "IyYuGO040u7G",
    "outputId": "846a2b19-c184-48b7-f749-06f264d6b572"
   },
   "outputs": [
    {
     "data": {
      "image/png": "[encoded data removed]",
      "text/plain": [
       "<Figure size 432x288 with 1 Axes>"
      ]
     },
     "metadata": {
      "needs_background": "light"
     },
     "output_type": "display_data"
    }
   ],
   "source": [
    "plt.title(\"Support vs Lift\")\n",
    "plt.scatter(supports, lifts, alpha=0.5, marker=\"*\")\n",
    "plt.xlabel('support')\n",
    "plt.ylabel('lift') \n",
    "plt.show()"
   ]
  },
  {
   "cell_type": "code",
   "execution_count": 97,
   "metadata": {
    "colab": {
     "base_uri": "https://localhost:8080/",
     "height": 294
    },
    "id": "K6ukCmmYaPkF",
    "outputId": "598714b2-c47b-4693-e849-f18a134b688e"
   },
   "outputs": [
    {
     "data": {
      "image/png": "[encoded data removed]",
      "text/plain": [
       "<Figure size 432x288 with 1 Axes>"
      ]
     },
     "metadata": {
      "needs_background": "light"
     },
     "output_type": "display_data"
    }
   ],
   "source": [
    "plt.title(\"Confidence vs Lift\")\n",
    "plt.scatter(confidences, lifts, alpha=0.5, marker=\"*\")\n",
    "plt.xlabel('confidences')\n",
    "plt.ylabel('lift') \n",
    "plt.show()"
   ]
  },
  {
   "cell_type": "markdown",
   "metadata": {},
   "source": [
    "### 2) Algoritmo Apriori from Efficient_Apriori"
   ]
  },
  {
   "cell_type": "code",
   "execution_count": 26,
   "metadata": {},
   "outputs": [
    {
     "name": "stdout",
     "output_type": "stream",
     "text": [
      "Defaulting to user installation because normal site-packages is not writeable\n",
      "Requirement already satisfied: efficient_apriori in /home/iury/.local/lib/python3.8/site-packages (2.0.0)\n"
     ]
    }
   ],
   "source": [
    "!pip install efficient_apriori"
   ]
  },
  {
   "cell_type": "code",
   "execution_count": 98,
   "metadata": {},
   "outputs": [
    {
     "name": "stdout",
     "output_type": "stream",
     "text": [
      "{16011} -> {16010} (conf: 0.973, supp: 0.007, lift: 65.190, conv: 36.612)\n",
      "{110, 39, 48} -> {38} (conf: 0.994, supp: 0.012, lift: 5.620, conv: 142.259)\n",
      "{110, 39, 41} -> {38} (conf: 0.992, supp: 0.006, lift: 5.609, conv: 105.974)\n",
      "{170, 39, 48} -> {38} (conf: 0.989, supp: 0.014, lift: 5.592, conv: 76.358)\n",
      "{110, 39} -> {38} (conf: 0.989, supp: 0.020, lift: 5.592, conv: 76.202)\n",
      "{371, 39} -> {38} (conf: 0.989, supp: 0.006, lift: 5.589, conv: 72.981)\n",
      "{170, 48} -> {38} (conf: 0.988, supp: 0.017, lift: 5.584, conv: 67.451)\n",
      "{286, 39, 48} -> {38} (conf: 0.987, supp: 0.005, lift: 5.580, conv: 63.653)\n",
      "{105, 39} -> {38} (conf: 0.987, supp: 0.005, lift: 5.578, conv: 62.418)\n",
      "{110, 32} -> {38} (conf: 0.987, supp: 0.005, lift: 5.577, conv: 61.595)\n",
      "{170, 41} -> {38} (conf: 0.986, supp: 0.009, lift: 5.576, conv: 60.236)\n",
      "{110, 48} -> {38} (conf: 0.986, supp: 0.015, lift: 5.575, conv: 59.783)\n",
      "{37, 48} -> {38} (conf: 0.986, supp: 0.006, lift: 5.573, conv: 58.131)\n",
      "{170, 39, 41} -> {38} (conf: 0.986, supp: 0.007, lift: 5.571, conv: 57.068)\n",
      "{170, 32} -> {38} (conf: 0.985, supp: 0.006, lift: 5.569, conv: 55.559)\n",
      "{110, 41} -> {38} (conf: 0.984, supp: 0.008, lift: 5.561, conv: 50.658)\n",
      "{170, 41, 48} -> {38} (conf: 0.984, supp: 0.005, lift: 5.561, conv: 50.621)\n",
      "{286, 48} -> {38} (conf: 0.983, supp: 0.007, lift: 5.557, conv: 48.645)\n",
      "{371} -> {38} (conf: 0.981, supp: 0.009, lift: 5.544, conv: 42.911)\n",
      "{170, 39} -> {38} (conf: 0.981, supp: 0.023, lift: 5.543, conv: 42.369)\n",
      "{105} -> {38} (conf: 0.979, supp: 0.007, lift: 5.532, conv: 38.627)\n",
      "{170} -> {38} (conf: 0.978, supp: 0.034, lift: 5.529, conv: 37.511)\n",
      "{110} -> {38} (conf: 0.975, supp: 0.031, lift: 5.513, conv: 33.330)\n",
      "{37} -> {38} (conf: 0.974, supp: 0.012, lift: 5.505, conv: 31.572)\n",
      "{790} -> {38} (conf: 0.971, supp: 0.006, lift: 5.491, conv: 28.699)\n",
      "{286, 39} -> {38} (conf: 0.971, supp: 0.008, lift: 5.487, conv: 28.060)\n",
      "{36, 39, 48} -> {38} (conf: 0.968, supp: 0.012, lift: 5.471, conv: 25.516)\n",
      "{37, 39} -> {38} (conf: 0.967, supp: 0.008, lift: 5.469, conv: 25.301)\n",
      "{36, 39, 41} -> {38} (conf: 0.967, supp: 0.006, lift: 5.465, conv: 24.780)\n",
      "{56} -> {38} (conf: 0.961, supp: 0.006, lift: 5.431, conv: 20.969)\n",
      "{36, 48} -> {38} (conf: 0.960, supp: 0.015, lift: 5.429, conv: 20.813)\n",
      "{36, 41} -> {38} (conf: 0.959, supp: 0.008, lift: 5.419, conv: 19.868)\n",
      "{32, 36} -> {38} (conf: 0.955, supp: 0.005, lift: 5.401, conv: 18.482)\n",
      "{36, 39} -> {38} (conf: 0.955, supp: 0.022, lift: 5.398, conv: 18.224)\n",
      "{36} -> {38} (conf: 0.950, supp: 0.032, lift: 5.372, conv: 16.552)\n",
      "{286} -> {38} (conf: 0.943, supp: 0.013, lift: 5.333, conv: 14.533)\n",
      "{55} -> {38} (conf: 0.933, supp: 0.007, lift: 5.275, conv: 12.329)\n"
     ]
    }
   ],
   "source": [
    "from efficient_apriori import apriori as efficient_apriori\n",
    "\n",
    "# Initialize the apriori\n",
    "itemsets, rules = efficient_apriori(transactions, min_support=0.005, min_confidence=0.9)\n",
    "\n",
    "# Print rules\n",
    "for rule in reversed(sorted(rules, key=lambda rule: rule.lift)):\n",
    "  print(rule)"
   ]
  }
 ],
 "metadata": {
  "colab": {
   "name": "ANS MO433.ipynb",
   "provenance": []
  },
  "kernelspec": {
   "display_name": "Python 3",
   "language": "python",
   "name": "python3"
  },
  "language_info": {
   "codemirror_mode": {
    "name": "ipython",
    "version": 3
   },
   "file_extension": ".py",
   "mimetype": "text/x-python",
   "name": "python",
   "nbconvert_exporter": "python",
   "pygments_lexer": "ipython3",
   "version": "3.8.5"
  }
 },
 "nbformat": 4,
 "nbformat_minor": 4
}
