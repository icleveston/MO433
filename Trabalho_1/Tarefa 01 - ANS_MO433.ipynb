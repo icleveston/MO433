{
  "nbformat": 4,
  "nbformat_minor": 0,
  "metadata": {
    "colab": {
      "name": "ANS MO433.ipynb",
      "provenance": []
    },
    "kernelspec": {
      "name": "python3",
      "display_name": "Python 3"
    },
    "language_info": {
      "name": "python"
    }
  },
  "cells": [
    {
      "cell_type": "markdown",
      "metadata": {
        "id": "zmyv1DI4-uXj"
      },
      "source": [
        "## **Tarefa 1: MO433 - Aprendizado não supervisionado**"
      ]
    },
    {
      "cell_type": "markdown",
      "metadata": {
        "id": "rlDIDbj3JKGa"
      },
      "source": [
        "## **Equipe:**\n",
        "\n",
        "* Elian Laura  | 265685\n",
        "* Iury Cleveston  | 230216"
      ]
    },
    {
      "cell_type": "code",
      "metadata": {
        "colab": {
          "base_uri": "https://localhost:8080/"
        },
        "id": "QDlXWKWGGWW-",
        "outputId": "e98f4b67-85b4-4a89-cfc1-2370614490b4"
      },
      "source": [
        "!wget http://fimi.ua.ac.be/data/retail.dat "
      ],
      "execution_count": 2,
      "outputs": [
        {
          "output_type": "stream",
          "name": "stdout",
          "text": [
            "--2021-10-18 23:39:59--  http://fimi.ua.ac.be/data/retail.dat\n",
            "Resolving fimi.ua.ac.be (fimi.ua.ac.be)... 143.129.69.1\n",
            "Connecting to fimi.ua.ac.be (fimi.ua.ac.be)|143.129.69.1|:80... connected.\n",
            "HTTP request sent, awaiting response... 301 Moved Permanently\n",
            "Location: http://fimi.uantwerpen.be/data/retail.dat [following]\n",
            "--2021-10-18 23:39:59--  http://fimi.uantwerpen.be/data/retail.dat\n",
            "Resolving fimi.uantwerpen.be (fimi.uantwerpen.be)... 143.129.69.1\n",
            "Reusing existing connection to fimi.ua.ac.be:80.\n",
            "HTTP request sent, awaiting response... 200 OK\n",
            "Length: 4167490 (4.0M)\n",
            "Saving to: ‘retail.dat.1’\n",
            "\n",
            "retail.dat.1        100%[===================>]   3.97M  5.67MB/s    in 0.7s    \n",
            "\n",
            "2021-10-18 23:40:00 (5.67 MB/s) - ‘retail.dat.1’ saved [4167490/4167490]\n",
            "\n"
          ]
        }
      ]
    },
    {
      "cell_type": "markdown",
      "metadata": {
        "id": "sOHcHpkljr9e"
      },
      "source": [
        "### Algoritmo apriori"
      ]
    },
    {
      "cell_type": "code",
      "metadata": {
        "colab": {
          "base_uri": "https://localhost:8080/"
        },
        "id": "9MYba7SlFU6Z",
        "outputId": "b24a9e3f-a781-4e10-e0b0-1016a9162c56"
      },
      "source": [
        "!pip install apyori"
      ],
      "execution_count": 1,
      "outputs": [
        {
          "output_type": "stream",
          "name": "stdout",
          "text": [
            "Collecting apyori\n",
            "  Downloading apyori-1.1.2.tar.gz (8.6 kB)\n",
            "Building wheels for collected packages: apyori\n",
            "  Building wheel for apyori (setup.py) ... \u001b[?25l\u001b[?25hdone\n",
            "  Created wheel for apyori: filename=apyori-1.1.2-py3-none-any.whl size=5974 sha256=0acd28dbe62c7e1902fa9247079caaf3946c9dcd51b2839f628d8d159a7d9cd0\n",
            "  Stored in directory: /root/.cache/pip/wheels/cb/f6/e1/57973c631d27efd1a2f375bd6a83b2a616c4021f24aab84080\n",
            "Successfully built apyori\n",
            "Installing collected packages: apyori\n",
            "Successfully installed apyori-1.1.2\n"
          ]
        }
      ]
    },
    {
      "cell_type": "code",
      "metadata": {
        "id": "9p_xnlrtwzpy"
      },
      "source": [
        "from apyori import apriori\n",
        "import matplotlib.pyplot as plt"
      ],
      "execution_count": 3,
      "outputs": []
    },
    {
      "cell_type": "code",
      "metadata": {
        "id": "Y7tnBfriFU_E"
      },
      "source": [
        "transactions = []\n",
        "\n",
        "# Load the data\n",
        "for line in open('retail.dat', 'r'):\n",
        "    \n",
        "    # Remove spaces\n",
        "    items = line.strip()\n",
        "    \n",
        "    # Split and add the items to the transaction\n",
        "    transactions.append(items.split(' '))\n",
        "\n",
        "\n",
        "# Initialize the apriori generator\n",
        "results_generator = apriori(transactions, min_support=0.005, min_confidence=0.9)"
      ],
      "execution_count": 6,
      "outputs": []
    },
    {
      "cell_type": "code",
      "metadata": {
        "id": "j-F-i_HVSwUF"
      },
      "source": [
        "# Convert the generator into a list\n",
        "results = list(results_generator)"
      ],
      "execution_count": 7,
      "outputs": []
    },
    {
      "cell_type": "code",
      "metadata": {
        "colab": {
          "base_uri": "https://localhost:8080/"
        },
        "id": "t_CLDSzpxhZ6",
        "outputId": "425509bd-b4e5-4c74-ec7d-e988a126f7ca"
      },
      "source": [
        "# Show the rules with support, confidence and lift\n",
        "print(' Rule \\t\\t\\t Support,  Confidence,  Lift')\n",
        "for i in results:    \n",
        "    items_base = list(i.ordered_statistics[0].items_base)\n",
        "    items_add = list(i.ordered_statistics[0].items_add)\n",
        "    \n",
        "    print(', '.join(items_base) + ' => ' + ','.join(items_add) + '\\t\\t' + str( round(i[1], 3)) + ', ' + str( round(i[2][0][2], 3) )   + ', ' + str(round(i[2][0][3], 3) ) )"
      ],
      "execution_count": 48,
      "outputs": [
        {
          "output_type": "stream",
          "name": "stdout",
          "text": [
            " Rule \t\t\t Support,  Confidence,  Lift\n",
            "105 => 38\t\t0.007, 0.979, 5.532\n",
            "110 => 38\t\t0.031, 0.975, 5.513\n",
            "16011 => 16010\t\t0.007, 0.973, 65.19\n",
            "170 => 38\t\t0.034, 0.978, 5.529\n",
            "286 => 38\t\t0.013, 0.943, 5.333\n",
            "36 => 38\t\t0.032, 0.95, 5.372\n",
            "37 => 38\t\t0.012, 0.974, 5.505\n",
            "371 => 38\t\t0.009, 0.981, 5.544\n",
            "55 => 38\t\t0.007, 0.933, 5.275\n",
            "56 => 38\t\t0.006, 0.961, 5.431\n",
            "790 => 38\t\t0.006, 0.971, 5.491\n",
            "105, 39 => 38\t\t0.005, 0.987, 5.578\n",
            "110, 32 => 38\t\t0.005, 0.987, 5.577\n",
            "110, 39 => 38\t\t0.02, 0.989, 5.592\n",
            "41, 110 => 38\t\t0.008, 0.984, 5.561\n",
            "48, 110 => 38\t\t0.015, 0.986, 5.575\n",
            "170, 32 => 38\t\t0.006, 0.985, 5.569\n",
            "170, 39 => 38\t\t0.023, 0.981, 5.543\n",
            "41, 170 => 38\t\t0.009, 0.986, 5.576\n",
            "48, 170 => 38\t\t0.017, 0.988, 5.584\n",
            "39, 286 => 38\t\t0.008, 0.971, 5.487\n",
            "48, 286 => 38\t\t0.007, 0.983, 5.557\n",
            "36, 32 => 38\t\t0.005, 0.955, 5.401\n",
            "36, 39 => 38\t\t0.022, 0.955, 5.398\n",
            "36, 41 => 38\t\t0.008, 0.959, 5.419\n",
            "36, 48 => 38\t\t0.015, 0.96, 5.429\n",
            "39, 37 => 38\t\t0.008, 0.967, 5.469\n",
            "48, 37 => 38\t\t0.006, 0.986, 5.573\n",
            "371, 39 => 38\t\t0.006, 0.989, 5.589\n",
            "41, 110, 39 => 38\t\t0.006, 0.992, 5.609\n",
            "48, 110, 39 => 38\t\t0.012, 0.994, 5.62\n",
            "41, 170, 39 => 38\t\t0.007, 0.986, 5.571\n",
            "48, 170, 39 => 38\t\t0.014, 0.989, 5.592\n",
            "41, 170, 48 => 38\t\t0.005, 0.984, 5.561\n",
            "48, 39, 286 => 38\t\t0.005, 0.987, 5.58\n",
            "36, 39, 41 => 38\t\t0.006, 0.967, 5.465\n",
            "36, 39, 48 => 38\t\t0.012, 0.968, 5.471\n"
          ]
        }
      ]
    },
    {
      "cell_type": "code",
      "metadata": {
        "id": "-K2iaOHaS3KM"
      },
      "source": [
        "# Plot the confidence, support and lift\n",
        "supports = []\n",
        "confidences = []\n",
        "lifts = []\n",
        "for item in results:\n",
        "\n",
        "    supports.append(item[1])\n",
        "    confidences.append(item[2][0][2])\n",
        "    lifts.append(item[2][0][3])"
      ],
      "execution_count": 40,
      "outputs": []
    },
    {
      "cell_type": "code",
      "metadata": {
        "colab": {
          "base_uri": "https://localhost:8080/",
          "height": 294
        },
        "id": "SFhK5fgTmahR",
        "outputId": "3ca1ad59-d3c3-47d9-9c01-fb8b84ee4cac"
      },
      "source": [
        "# Plots\n",
        "plt.title(\"Confidence vs Support\")\n",
        "plt.scatter(supports, confidences,   alpha=0.5, marker=\"*\")\n",
        "plt.xlabel('support')\n",
        "plt.ylabel('confidence') \n",
        "plt.show()"
      ],
      "execution_count": 41,
      "outputs": [
        {
          "output_type": "display_data",
          "data": {
            "image/png": "[encoded data removed]",
            "text/plain": [
              "<Figure size 432x288 with 1 Axes>"
            ]
          },
          "metadata": {
            "needs_background": "light"
          }
        }
      ]
    },
    {
      "cell_type": "code",
      "metadata": {
        "id": "IyYuGO040u7G",
        "colab": {
          "base_uri": "https://localhost:8080/",
          "height": 294
        },
        "outputId": "846a2b19-c184-48b7-f749-06f264d6b572"
      },
      "source": [
        "plt.title(\"Support vs Lift\")\n",
        "plt.scatter(supports, lifts,   alpha=0.5, marker=\"*\")\n",
        "plt.xlabel('support')\n",
        "plt.ylabel('lift') \n",
        "plt.show()"
      ],
      "execution_count": 19,
      "outputs": [
        {
          "output_type": "display_data",
          "data": {
            "image/png": "[encoded data removed]",
            "text/plain": [
              "<Figure size 432x288 with 1 Axes>"
            ]
          },
          "metadata": {
            "needs_background": "light"
          }
        }
      ]
    },
    {
      "cell_type": "code",
      "metadata": {
        "colab": {
          "base_uri": "https://localhost:8080/",
          "height": 294
        },
        "id": "K6ukCmmYaPkF",
        "outputId": "598714b2-c47b-4693-e849-f18a134b688e"
      },
      "source": [
        "plt.title(\"Lift vs Support\")\n",
        "plt.scatter(confidences, lifts,   alpha=0.5, marker=\"*\")\n",
        "plt.xlabel('confidences')\n",
        "plt.ylabel('lift') \n",
        "plt.show()"
      ],
      "execution_count": 12,
      "outputs": [
        {
          "output_type": "display_data",
          "data": {
            "image/png": "[encoded data removed]",
            "text/plain": [
              "<Figure size 432x288 with 1 Axes>"
            ]
          },
          "metadata": {
            "needs_background": "light"
          }
        }
      ]
    },
    {
      "cell_type": "code",
      "metadata": {
        "id": "-NO2rNrpgBx9"
      },
      "source": [
        ""
      ],
      "execution_count": null,
      "outputs": []
    },
    {
      "cell_type": "markdown",
      "metadata": {
        "id": "Kh62dJfauE1i"
      },
      "source": [
        "### Efficient_apriori"
      ]
    },
    {
      "cell_type": "code",
      "metadata": {
        "colab": {
          "base_uri": "https://localhost:8080/"
        },
        "id": "PSvxFNg4uJuV",
        "outputId": "5c048950-3b65-42ce-cb48-7442c18649fc"
      },
      "source": [
        "!pip install efficient_apriori"
      ],
      "execution_count": 2,
      "outputs": [
        {
          "output_type": "stream",
          "name": "stdout",
          "text": [
            "Collecting efficient_apriori\n",
            "  Downloading efficient_apriori-2.0.0-py3-none-any.whl (14 kB)\n",
            "Installing collected packages: efficient-apriori\n",
            "Successfully installed efficient-apriori-2.0.0\n"
          ]
        }
      ]
    },
    {
      "cell_type": "code",
      "metadata": {
        "id": "6nleAappuHMD"
      },
      "source": [
        "from efficient_apriori import apriori\n",
        "import matplotlib.pyplot as plt"
      ],
      "execution_count": 16,
      "outputs": []
    },
    {
      "cell_type": "code",
      "metadata": {
        "id": "yVLdJTCluPGc"
      },
      "source": [
        "transactions = []\n",
        "\n",
        "# Load the data\n",
        "for line in open('retail.dat', 'r'):\n",
        "    \n",
        "    # Remove spaces\n",
        "    items = line.strip()\n",
        "    \n",
        "    # Split and add the items to the transaction\n",
        "    transactions.append(items.split(' '))\n",
        "\n",
        "\n",
        "# Initialize the apriori generator\n",
        "itemsets, rules =  apriori(transactions, min_support=0.005, min_confidence=0.9)"
      ],
      "execution_count": 20,
      "outputs": []
    },
    {
      "cell_type": "code",
      "metadata": {
        "colab": {
          "base_uri": "https://localhost:8080/"
        },
        "id": "67cUj6qYjVfg",
        "outputId": "8d6252f5-bf3f-437f-a05f-6c7d75fa1481"
      },
      "source": [
        "for rule in sorted(rules, key=lambda rule: rule.lift):\n",
        "  print(rule) "
      ],
      "execution_count": 30,
      "outputs": [
        {
          "output_type": "stream",
          "name": "stdout",
          "text": [
            "{55} -> {38} (conf: 0.933, supp: 0.007, lift: 5.275, conv: 12.329)\n",
            "{286} -> {38} (conf: 0.943, supp: 0.013, lift: 5.333, conv: 14.533)\n",
            "{36} -> {38} (conf: 0.950, supp: 0.032, lift: 5.372, conv: 16.552)\n",
            "{36, 39} -> {38} (conf: 0.955, supp: 0.022, lift: 5.398, conv: 18.224)\n",
            "{32, 36} -> {38} (conf: 0.955, supp: 0.005, lift: 5.401, conv: 18.482)\n",
            "{36, 41} -> {38} (conf: 0.959, supp: 0.008, lift: 5.419, conv: 19.868)\n",
            "{36, 48} -> {38} (conf: 0.960, supp: 0.015, lift: 5.429, conv: 20.813)\n",
            "{56} -> {38} (conf: 0.961, supp: 0.006, lift: 5.431, conv: 20.969)\n",
            "{36, 39, 41} -> {38} (conf: 0.967, supp: 0.006, lift: 5.465, conv: 24.780)\n",
            "{37, 39} -> {38} (conf: 0.967, supp: 0.008, lift: 5.469, conv: 25.301)\n",
            "{36, 39, 48} -> {38} (conf: 0.968, supp: 0.012, lift: 5.471, conv: 25.516)\n",
            "{286, 39} -> {38} (conf: 0.971, supp: 0.008, lift: 5.487, conv: 28.060)\n",
            "{790} -> {38} (conf: 0.971, supp: 0.006, lift: 5.491, conv: 28.699)\n",
            "{37} -> {38} (conf: 0.974, supp: 0.012, lift: 5.505, conv: 31.572)\n",
            "{110} -> {38} (conf: 0.975, supp: 0.031, lift: 5.513, conv: 33.330)\n",
            "{170} -> {38} (conf: 0.978, supp: 0.034, lift: 5.529, conv: 37.511)\n",
            "{105} -> {38} (conf: 0.979, supp: 0.007, lift: 5.532, conv: 38.627)\n",
            "{170, 39} -> {38} (conf: 0.981, supp: 0.023, lift: 5.543, conv: 42.369)\n",
            "{371} -> {38} (conf: 0.981, supp: 0.009, lift: 5.544, conv: 42.911)\n",
            "{286, 48} -> {38} (conf: 0.983, supp: 0.007, lift: 5.557, conv: 48.645)\n",
            "{170, 41, 48} -> {38} (conf: 0.984, supp: 0.005, lift: 5.561, conv: 50.621)\n",
            "{110, 41} -> {38} (conf: 0.984, supp: 0.008, lift: 5.561, conv: 50.658)\n",
            "{170, 32} -> {38} (conf: 0.985, supp: 0.006, lift: 5.569, conv: 55.559)\n",
            "{170, 39, 41} -> {38} (conf: 0.986, supp: 0.007, lift: 5.571, conv: 57.068)\n",
            "{37, 48} -> {38} (conf: 0.986, supp: 0.006, lift: 5.573, conv: 58.131)\n",
            "{110, 48} -> {38} (conf: 0.986, supp: 0.015, lift: 5.575, conv: 59.783)\n",
            "{170, 41} -> {38} (conf: 0.986, supp: 0.009, lift: 5.576, conv: 60.236)\n",
            "{110, 32} -> {38} (conf: 0.987, supp: 0.005, lift: 5.577, conv: 61.595)\n",
            "{105, 39} -> {38} (conf: 0.987, supp: 0.005, lift: 5.578, conv: 62.418)\n",
            "{286, 39, 48} -> {38} (conf: 0.987, supp: 0.005, lift: 5.580, conv: 63.653)\n",
            "{170, 48} -> {38} (conf: 0.988, supp: 0.017, lift: 5.584, conv: 67.451)\n",
            "{371, 39} -> {38} (conf: 0.989, supp: 0.006, lift: 5.589, conv: 72.981)\n",
            "{110, 39} -> {38} (conf: 0.989, supp: 0.020, lift: 5.592, conv: 76.202)\n",
            "{170, 39, 48} -> {38} (conf: 0.989, supp: 0.014, lift: 5.592, conv: 76.358)\n",
            "{110, 39, 41} -> {38} (conf: 0.992, supp: 0.006, lift: 5.609, conv: 105.974)\n",
            "{110, 39, 48} -> {38} (conf: 0.994, supp: 0.012, lift: 5.620, conv: 142.259)\n",
            "{16011} -> {16010} (conf: 0.973, supp: 0.007, lift: 65.190, conv: 36.612)\n"
          ]
        }
      ]
    },
    {
      "cell_type": "code",
      "metadata": {
        "id": "kmkQZvo3kcnG"
      },
      "source": [
        "supports = []\n",
        "confidences = []\n",
        "lifts = []\n",
        "greater_lift = 0\n",
        "for rule in rules:\n",
        "    supports.append(rule.support)\n",
        "    confidences.append(rule.confidence)\n",
        "    lifts.append(rule.lift)"
      ],
      "execution_count": 21,
      "outputs": []
    },
    {
      "cell_type": "code",
      "metadata": {
        "colab": {
          "base_uri": "https://localhost:8080/",
          "height": 294
        },
        "id": "9Anf809om4Zx",
        "outputId": "5e3d5be6-fc42-4e14-8dde-241c768c4094"
      },
      "source": [
        "plt.title(\"Confidence vs Support\")\n",
        "plt.scatter(supports, confidences,   alpha=0.5, marker=\"*\")\n",
        "plt.xlabel('support')\n",
        "plt.ylabel('confidence') \n",
        "plt.show()"
      ],
      "execution_count": 31,
      "outputs": [
        {
          "output_type": "display_data",
          "data": {
            "image/png": "[encoded data removed]",
            "text/plain": [
              "<Figure size 432x288 with 1 Axes>"
            ]
          },
          "metadata": {
            "needs_background": "light"
          }
        }
      ]
    },
    {
      "cell_type": "code",
      "metadata": {
        "colab": {
          "base_uri": "https://localhost:8080/",
          "height": 294
        },
        "id": "y7rFJ1Kam_Ph",
        "outputId": "d17ba435-e373-479d-c33a-75cd4d4dbbcc"
      },
      "source": [
        "plt.title(\"Lift vs Confidence\")\n",
        "plt.scatter(confidences, lifts,   alpha=0.5, marker=\"*\")\n",
        "plt.xlabel('confidences')\n",
        "plt.ylabel('lift') \n",
        "plt.show()"
      ],
      "execution_count": 32,
      "outputs": [
        {
          "output_type": "display_data",
          "data": {
            "image/png": "[encoded data removed]",
            "text/plain": [
              "<Figure size 432x288 with 1 Axes>"
            ]
          },
          "metadata": {
            "needs_background": "light"
          }
        }
      ]
    },
    {
      "cell_type": "code",
      "metadata": {
        "colab": {
          "base_uri": "https://localhost:8080/",
          "height": 294
        },
        "id": "rTfsZdt6jmfT",
        "outputId": "2ccbeece-f46f-4f96-a2a9-0dd2bd905cac"
      },
      "source": [
        "plt.title(\"Lift vs Support\")\n",
        "plt.scatter(supports, lifts,   alpha=0.5, marker=\"*\")\n",
        "plt.xlabel('support')\n",
        "plt.ylabel('lift') \n",
        "plt.show()"
      ],
      "execution_count": 33,
      "outputs": [
        {
          "output_type": "display_data",
          "data": {
            "image/png": "[encoded data removed]",
            "text/plain": [
              "<Figure size 432x288 with 1 Axes>"
            ]
          },
          "metadata": {
            "needs_background": "light"
          }
        }
      ]
    },
    {
      "cell_type": "markdown",
      "metadata": {
        "id": "2YPa4m9et3JJ"
      },
      "source": [
        "### References"
      ]
    },
    {
      "cell_type": "markdown",
      "metadata": {
        "id": "nx9jR0XVvdyy"
      },
      "source": [
        "https://intelligentonlinetools.com/blog/2018/02/10/how-to-create-data-visualization-for-association-rules-in-data-mining/"
      ]
    },
    {
      "cell_type": "markdown",
      "metadata": {
        "id": "KDXm99HEvijy"
      },
      "source": [
        "https://pypi.org/project/efficient-apriori/"
      ]
    },
    {
      "cell_type": "markdown",
      "metadata": {
        "id": "Yc5_u815vv36"
      },
      "source": [
        "https://medium.com/analytics-vidhya/association-analysis-in-python-2b955d0180c"
      ]
    },
    {
      "cell_type": "markdown",
      "metadata": {
        "id": "2Vp15C89v-Q4"
      },
      "source": [
        "https://github.com/ymoch/apyori/blob/master/apyori.py"
      ]
    },
    {
      "cell_type": "code",
      "metadata": {
        "id": "hDuo9HiruzqD"
      },
      "source": [
        ""
      ],
      "execution_count": null,
      "outputs": []
    }
  ]
}